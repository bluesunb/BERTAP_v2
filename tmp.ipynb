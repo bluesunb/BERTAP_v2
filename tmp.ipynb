{
 "cells": [
  {
   "cell_type": "code",
   "execution_count": 1,
   "metadata": {},
   "outputs": [
    {
     "name": "stdout",
     "output_type": "stream",
     "text": [
      "/home/bluesun/PycharmProjects/tmp/BERTAP_v2\n"
     ]
    },
    {
     "name": "stderr",
     "output_type": "stream",
     "text": [
      "/home/bluesun/anaconda3/envs/rl/lib/python3.11/site-packages/IPython/core/magics/osm.py:417: UserWarning: using dhist requires you to install the `pickleshare` library.\n",
      "  self.shell.db['dhist'] = compress_dhist(dhist)[-100:]\n"
     ]
    }
   ],
   "source": [
    "cd ../../"
   ]
  },
  {
   "cell_type": "code",
   "execution_count": 2,
   "metadata": {},
   "outputs": [
    {
     "name": "stderr",
     "output_type": "stream",
     "text": [
      "/home/bluesun/anaconda3/envs/rl/lib/python3.11/site-packages/Cython/Distutils/old_build_ext.py:15: DeprecationWarning: dep_util is Deprecated. Use functions from setuptools instead.\n",
      "  from distutils.dep_util import newer, newer_group\n",
      "<frozen importlib._bootstrap>:283: DeprecationWarning: the load_module() method is deprecated and slated for removal in Python 3.12; use exec_module() instead\n",
      "Warning: Flow failed to import. Set the environment variable D4RL_SUPPRESS_IMPORT_ERROR=1 to suppress this message.\n",
      "No module named 'flow'\n",
      "Warning: CARLA failed to import. Set the environment variable D4RL_SUPPRESS_IMPORT_ERROR=1 to suppress this message.\n",
      "No module named 'carla'\n",
      "pybullet build time: Nov 28 2023 23:48:36\n",
      "/home/bluesun/anaconda3/envs/rl/lib/python3.11/site-packages/pybullet_envs/env_bases.py:8: DeprecationWarning: pkg_resources is deprecated as an API. See https://setuptools.pypa.io/en/latest/pkg_resources.html\n",
      "  from pkg_resources import parse_version\n",
      "/home/bluesun/anaconda3/envs/rl/lib/python3.11/site-packages/pkg_resources/__init__.py:2832: DeprecationWarning: Deprecated call to `pkg_resources.declare_namespace('sphinxcontrib')`.\n",
      "Implementing implicit namespace packages (as specified in PEP 420) is preferred to `pkg_resources.declare_namespace`. See https://setuptools.pypa.io/en/latest/references/keywords.html#keyword-namespace-packages\n",
      "  declare_namespace(pkg)\n",
      "2024-06-15 10:02:45.067643: W tensorflow/compiler/tf2tensorrt/utils/py_utils.cc:38] TF-TRT Warning: Could not find TensorRT\n"
     ]
    }
   ],
   "source": [
    "import pickle\n",
    "import numpy as np\n",
    "import jax, jax.numpy as jp\n",
    "import flax, optax\n",
    "from flax.training.common_utils import shard, shard_prng_key\n",
    "from flax.jax_utils import pad_shard_unpad\n",
    "\n",
    "from src import BASE_DIR\n",
    "from src.models.vae import VQVAE\n",
    "from src.common.configs import TotalConfigs, DatasetConfig, ModelConfig, TrainConfig\n",
    "from src.datasets import AntDataLoader, AntNormalizer, make_env\n",
    "from src.utils.train_state import TrainState\n",
    "from src.utils.ant_viz import GoalReachingAnt\n",
    "from src.utils.logging_utils import Logger, compare_recons\n",
    "from src.utils.context import make_rngs, save_state\n",
    "from src.scripts.vae_prepare import prepare_config_dataset, prepare_states\n",
    "from src.scripts.batch_samplers import vae_batch_sampler\n",
    "\n",
    "import wandb\n",
    "from boxprint import bprint\n",
    "from functools import partial\n",
    "from pathlib import Path\n",
    "from tqdm import tqdm\n",
    "from typing import Dict, List, Tuple"
   ]
  },
  {
   "cell_type": "code",
   "execution_count": 3,
   "metadata": {},
   "outputs": [],
   "source": [
    "import chex\n",
    "env_name = \"antmaze-large-play-v2\"\n",
    "model_def = VQVAE\n",
    "\n",
    "pmap = True\n",
    "log_interval = 20\n",
    "save_interval = 2000\n",
    "eval_freq = 2\n",
    "use_wandb = False\n",
    "kwargs = {\n",
    "    \"model\": {},\n",
    "    \"dataset\": {\"goal_conditioned\": True, \"hierarchical_goal\": False, \"p_true_goal\": 1.0, \"p_sub_goal\": 0.0},\n",
    "    \"train\": {}\n",
    "}\n",
    "\n",
    "seq_len = 64\n",
    "latent_step=4\n",
    "batch_size=256\n",
    "n_epochs=10\n"
   ]
  },
  {
   "cell_type": "code",
   "execution_count": 4,
   "metadata": {},
   "outputs": [
    {
     "name": "stderr",
     "output_type": "stream",
     "text": [
      "/home/bluesun/anaconda3/envs/rl/lib/python3.11/site-packages/gym/spaces/box.py:84: UserWarning: \u001B[33mWARN: Box bound precision lowered by casting to float32\u001B[0m\n",
      "  logger.warn(f\"Box bound precision lowered by casting to {self.dtype}\")\n"
     ]
    },
    {
     "name": "stdout",
     "output_type": "stream",
     "text": [
      "Target Goal:  (32.666131143637415, 24.513526574967067)\n",
      "Loading dataset...\n"
     ]
    },
    {
     "name": "stderr",
     "output_type": "stream",
     "text": [
      "load datafile: 100%|██████████| 8/8 [00:01<00:00,  7.30it/s]\n"
     ]
    },
    {
     "name": "stdout",
     "output_type": "stream",
     "text": [
      "==== [Fixing terminal for AntMaze] ====\n",
      "Target Goal:  (32.75958616538049, 25.211320164701082)\n"
     ]
    }
   ],
   "source": [
    "# Prepare config and dataset ========\n",
    "seq_len = 64\n",
    "dataloader, configs = prepare_config_dataset(env_name, seq_len, latent_step, batch_size, n_epochs, **kwargs)\n",
    "render_env = GoalReachingAnt(env_name)\n",
    "n_devices = jax.device_count()\n",
    "\n",
    "# Data sampler ========\n",
    "sample_batch_fn, (normalizer, splits) = vae_batch_sampler(dataloader, batch_size, normalize=True)\n",
    "\n",
    "def check(pos, goal):\n",
    "    import matplotlib.pyplot as plt\n",
    "    render_env.draw()\n",
    "    c = np.linspace(0, 1, len(pos))\n",
    "    plt.scatter(pos[..., 0], pos[..., 1], s=10, alpha=0.5, zorder=1, c=c)\n",
    "    plt.scatter(goal[..., 0], goal[..., 1], s=100, c='r', edgecolors='k', marker='*', alpha=0.8, zorder=3)\n",
    "    plt.show()"
   ]
  },
  {
   "cell_type": "code",
   "execution_count": 5,
   "metadata": {},
   "outputs": [],
   "source": [
    "def check_traj(i):\n",
    "    eval_starts = np.arange(4) * dataloader.seq_len + i\n",
    "    eval_batch = sample_batch_fn(starts=eval_starts, pmap=False)\n",
    "    denorm_keys = (\"goals\", \"observations\", \"actions\")\n",
    "    eval_batch = normalizer.denormalize_concat(eval_batch[\"traj_seq\"], keys=denorm_keys, splits=splits)\n",
    "    eval_batch = eval_batch.reshape(-1, 40)\n",
    "    check(eval_batch[:, 2:4], eval_batch[:, :2])\n",
    "    "
   ]
  },
  {
   "cell_type": "code",
   "execution_count": 6,
   "metadata": {},
   "outputs": [],
   "source": [
    "eval_starts = np.arange(4) * dataloader.seq_len + 20 * 100\n",
    "eval_batch = sample_batch_fn(starts=eval_starts, pmap=False)\n",
    "eval_batch_unnorm = vae_batch_sampler(dataloader, batch_size, normalize=False)[0](starts=eval_starts, pmap=False)"
   ]
  },
  {
   "cell_type": "code",
   "execution_count": 7,
   "metadata": {},
   "outputs": [],
   "source": [
    "denorm_keys = (\"goals\", \"observations\", \"actions\")\n",
    "eval_batch = normalizer.denormalize_concat(eval_batch['traj_seq'], denorm_keys, splits)"
   ]
  },
  {
   "cell_type": "code",
   "execution_count": 8,
   "metadata": {},
   "outputs": [],
   "source": [
    "eval_batch = eval_batch.reshape(-1, 40)"
   ]
  },
  {
   "cell_type": "code",
   "execution_count": 9,
   "metadata": {},
   "outputs": [
    {
     "data": {
      "image/png": "[encoded data removed]",
      "text/plain": [
       "<Figure size 640x480 with 1 Axes>"
      ]
     },
     "metadata": {},
     "output_type": "display_data"
    }
   ],
   "source": [
    "check(eval_batch[:, 2:4], eval_batch[:, :2])"
   ]
  },
  {
   "cell_type": "code",
   "execution_count": 12,
   "metadata": {},
   "outputs": [
    {
     "data": {
      "text/plain": [
       "(4, 64, 40)"
      ]
     },
     "execution_count": 12,
     "metadata": {},
     "output_type": "execute_result"
    }
   ],
   "source": [
    "eval_batch.shape"
   ]
  },
  {
   "cell_type": "code",
   "execution_count": 25,
   "metadata": {},
   "outputs": [
    {
     "data": {
      "text/plain": [
       "'/home/bluesun/PycharmProjects/tmp/BERTAP_v2'"
      ]
     },
     "execution_count": 25,
     "metadata": {},
     "output_type": "execute_result"
    }
   ],
   "source": [
    "pwd"
   ]
  },
  {
   "cell_type": "code",
   "execution_count": 36,
   "metadata": {},
   "outputs": [
    {
     "name": "stdout",
     "output_type": "stream",
     "text": [
      "/home/bluesun/PycharmProjects/tmp/BERTAP_v2/traj_test\n"
     ]
    }
   ],
   "source": [
    "import matplotlib.pyplot as plt\n",
    "from pathlib import Path\n",
    "plt.close()\n",
    "\n",
    "path = Path(\"./traj_test/\").absolute()\n",
    "print(path)\n",
    "path.mkdir(exist_ok=True)\n",
    "\n",
    "def plot_traj(i):\n",
    "    ids = np.arange(dataloader.terminal_ids[i], dataloader.terminal_ids[i+1]) + 1\n",
    "    traj = dataloader.dataset.sample(index=ids)\n",
    "    pos = traj[\"observations\"][:, :2]\n",
    "    goals = traj[\"goals\"]\n",
    "    \n",
    "    render_env.draw()\n",
    "    plt.title(f\"Trajectory {i}\")\n",
    "    c = np.linspace(0, 1, len(pos))\n",
    "    plt.scatter(pos[:, 0], pos[:, 1], s=10, alpha=0.5, zorder=1, c=c)\n",
    "    plt.scatter(goals[:, 0], goals[:, 1], s=100, c='r', edgecolors='k', marker='*', alpha=0.8, zorder=3)\n",
    "    \n",
    "    plt.savefig(str(path / f\"traj_{i}.png\"))\n",
    "    plt.close()"
   ]
  },
  {
   "cell_type": "code",
   "execution_count": 37,
   "metadata": {},
   "outputs": [
    {
     "name": "stderr",
     "output_type": "stream",
     "text": [
      "100%|██████████| 100/100 [00:07<00:00, 14.12it/s]\n"
     ]
    }
   ],
   "source": [
    "from tqdm import tqdm\n",
    "for i in tqdm(range(100)):\n",
    "    plot_traj(i)"
   ]
  },
  {
   "cell_type": "code",
   "execution_count": 31,
   "metadata": {},
   "outputs": [
    {
     "data": {
      "text/plain": [
       "20999"
      ]
     },
     "execution_count": 31,
     "metadata": {},
     "output_type": "execute_result"
    }
   ],
   "source": [
    "dataloader.terminal_ids[20]"
   ]
  },
  {
   "cell_type": "code",
   "execution_count": 32,
   "metadata": {},
   "outputs": [],
   "source": [
    "i = 20\n",
    "ids = np.arange(dataloader.terminal_ids[i], dataloader.terminal_ids[i+1])\n",
    "traj = dataloader.dataset.sample(index=ids)\n",
    "pos = traj[\"observations\"][:, :2]\n",
    "goals = traj[\"goals\"]"
   ]
  },
  {
   "cell_type": "code",
   "execution_count": 33,
   "metadata": {},
   "outputs": [
    {
     "data": {
      "text/plain": [
       "(1000, 2)"
      ]
     },
     "execution_count": 33,
     "metadata": {},
     "output_type": "execute_result"
    }
   ],
   "source": [
    "goals.shape"
   ]
  },
  {
   "cell_type": "code",
   "execution_count": 35,
   "metadata": {},
   "outputs": [
    {
     "data": {
      "text/plain": [
       "20999"
      ]
     },
     "execution_count": 35,
     "metadata": {},
     "output_type": "execute_result"
    }
   ],
   "source": [
    "dataloader.terminal_ids[20]"
   ]
  },
  {
   "cell_type": "code",
   "execution_count": null,
   "metadata": {},
   "outputs": [],
   "source": []
  }
 ],
 "metadata": {
  "kernelspec": {
   "display_name": "rl",
   "language": "python",
   "name": "python3"
  },
  "language_info": {
   "codemirror_mode": {
    "name": "ipython",
    "version": 3
   },
   "file_extension": ".py",
   "mimetype": "text/x-python",
   "name": "python",
   "nbconvert_exporter": "python",
   "pygments_lexer": "ipython3",
   "version": "3.11.9"
  }
 },
 "nbformat": 4,
 "nbformat_minor": 2
}
