{
 "cells": [
  {
   "cell_type": "markdown",
   "metadata": {},
   "source": [
    "Connected to rl (Python 3.11.9)"
   ]
  },
  {
   "cell_type": "code",
   "execution_count": 1,
   "id": "10c7e986-2c0e-4bb3-b7f5-8e4aa5a14608",
   "metadata": {},
   "outputs": [],
   "source": [
    "import numpy as np"
   ]
  },
  {
   "cell_type": "code",
   "execution_count": 3,
   "metadata": {},
   "outputs": [],
   "source": [
    "import jax, jax.numpy as jp\n",
    "import flax.linen as nn\n",
    "\n",
    "rng = jax.random.PRNGKey(0)"
   ]
  },
  {
   "cell_type": "code",
   "execution_count": 5,
   "metadata": {},
   "outputs": [],
   "source": [
    "net = nn.MultiHeadAttention(num_heads=8, qkv_features=16)\n",
    "rngs = jax.random.split(rng, 6)\n",
    "shape = (4, 32, 3, 10)\n",
    "\n",
    "q = jax.random.uniform(rngs[0], shape)\n",
    "k = jax.random.uniform(rngs[1], shape)\n",
    "v = jax.random.uniform(rngs[2], shape)\n",
    "variables = net.init(rng, q)"
   ]
  },
  {
   "cell_type": "code",
   "execution_count": 7,
   "metadata": {},
   "outputs": [
    {
     "name": "stdout",
     "output_type": "stream",
     "text": [
      "{'params': {'key': {'bias': ShapeDtypeStruct(shape=(8, 2), dtype=float32),\n",
      "                    'kernel': ShapeDtypeStruct(shape=(10, 8, 2), dtype=float32)},\n",
      "            'out': {'bias': ShapeDtypeStruct(shape=(10,), dtype=float32),\n",
      "                    'kernel': ShapeDtypeStruct(shape=(8, 2, 10), dtype=float32)},\n",
      "            'query': {'bias': ShapeDtypeStruct(shape=(8, 2), dtype=float32),\n",
      "                      'kernel': ShapeDtypeStruct(shape=(10, 8, 2), dtype=float32)},\n",
      "            'value': {'bias': ShapeDtypeStruct(shape=(8, 2), dtype=float32),\n",
      "                      'kernel': ShapeDtypeStruct(shape=(10, 8, 2), dtype=float32)}}}\n"
     ]
    }
   ],
   "source": [
    "from pprint import pp\n",
    "\n",
    "pp(jax.eval_shape(lambda x: x, variables))"
   ]
  }
 ],
 "metadata": {
  "kernelspec": {
   "display_name": "rl",
   "language": "python",
   "name": "python3"
  },
  "language_info": {
   "codemirror_mode": {
    "name": "ipython",
    "version": 3
   },
   "file_extension": ".py",
   "mimetype": "text/x-python",
   "name": "python",
   "nbconvert_exporter": "python",
   "pygments_lexer": "ipython3",
   "version": "3.11.9"
  }
 },
 "nbformat": 4,
 "nbformat_minor": 2
}
