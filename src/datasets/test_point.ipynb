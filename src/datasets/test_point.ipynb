{
 "cells": [
  {
   "cell_type": "code",
   "execution_count": 1,
   "metadata": {},
   "outputs": [
    {
     "name": "stdout",
     "output_type": "stream",
     "text": [
      "/home/bluesun/PycharmProjects/tmp/BERTAP_v2\n"
     ]
    },
    {
     "name": "stderr",
     "output_type": "stream",
     "text": [
      "/home/bluesun/anaconda3/envs/rl/lib/python3.11/site-packages/IPython/core/magics/osm.py:417: UserWarning: using dhist requires you to install the `pickleshare` library.\n",
      "  self.shell.db['dhist'] = compress_dhist(dhist)[-100:]\n"
     ]
    }
   ],
   "source": [
    "cd ../../"
   ]
  },
  {
   "cell_type": "code",
   "execution_count": 2,
   "metadata": {},
   "outputs": [
    {
     "data": {
      "text/plain": [
       "'/home/bluesun/PycharmProjects/tmp/BERTAP_v2'"
      ]
     },
     "execution_count": 2,
     "metadata": {},
     "output_type": "execute_result"
    }
   ],
   "source": [
    "pwd"
   ]
  },
  {
   "cell_type": "code",
   "execution_count": 3,
   "metadata": {},
   "outputs": [
    {
     "name": "stderr",
     "output_type": "stream",
     "text": [
      "Warning: Flow failed to import. Set the environment variable D4RL_SUPPRESS_IMPORT_ERROR=1 to suppress this message.\n",
      "No module named 'flow'\n",
      "Warning: CARLA failed to import. Set the environment variable D4RL_SUPPRESS_IMPORT_ERROR=1 to suppress this message.\n",
      "No module named 'carla'\n",
      "pybullet build time: Nov 28 2023 23:48:36\n"
     ]
    },
    {
     "name": "stdout",
     "output_type": "stream",
     "text": [
      "Loading dataset...\n"
     ]
    },
    {
     "name": "stderr",
     "output_type": "stream",
     "text": [
      "load datafile: 100%|██████████| 8/8 [00:00<00:00, 11.31it/s]\n"
     ]
    },
    {
     "name": "stdout",
     "output_type": "stream",
     "text": [
      "------------[Fixing reward for Maze2D]------------\n",
      "----------[Fixing last goal for Maze2D]-----------\n",
      "-----------[Transposing xy for Maze2D]------------\n",
      "------------[Fixing reward for Maze2D]------------\n"
     ]
    },
    {
     "data": {
      "text/plain": [
       "Dataset(actions: (3983273, 2), dones_float: (3983273, 1), goals: (3983273, 2), masks: (3983273, 1), next_observations: (3983273, 4), observations: (3983273, 4), rewards: (3983273, 1))"
      ]
     },
     "execution_count": 3,
     "metadata": {},
     "output_type": "execute_result"
    }
   ],
   "source": [
    "from src.datasets.d4rl_utils import make_env, get_dataset\n",
    "\n",
    "env_name = 'maze2d-large-v1'\n",
    "env = make_env(env_name)\n",
    "data = get_dataset(env, env_name)\n",
    "data"
   ]
  },
  {
   "cell_type": "code",
   "execution_count": 4,
   "metadata": {},
   "outputs": [
    {
     "data": {
      "text/plain": [
       "array([ 248,  452,  733, 1067, 1652, 1754, 1979, 2323, 2718, 2820])"
      ]
     },
     "execution_count": 4,
     "metadata": {},
     "output_type": "execute_result"
    }
   ],
   "source": [
    "import numpy as np\n",
    "from src.utils.ant_viz import GoalReachingMaze\n",
    "\n",
    "render_env = GoalReachingMaze(env_name)\n",
    "term_ids = np.where(data[\"dones_float\"])[0]\n",
    "term_ids[:10]"
   ]
  },
  {
   "cell_type": "code",
   "execution_count": 16,
   "metadata": {},
   "outputs": [
    {
     "data": {
      "image/png": "[encoded data removed]",
      "text/plain": [
       "<Figure size 640x480 with 1 Axes>"
      ]
     },
     "metadata": {},
     "output_type": "display_data"
    }
   ],
   "source": [
    "import matplotlib.pyplot as plt\n",
    "\n",
    "render_env.draw()\n",
    "\n",
    "for i in np.random.randint(0, len(term_ids), 3):\n",
    "    s, t = term_ids[i-1:i+1] + 1\n",
    "    c = np.linspace(0, 1, t-s)\n",
    "    pos = data[\"observations\"][s:t, :2]\n",
    "    goal = data[\"goals\"][s:t]\n",
    "    rew_pos = pos[data[\"rewards\"][s:t, 0] > 0]\n",
    "    \n",
    "    plt.scatter(*pos.T, c=c, cmap='viridis', alpha=0.5, s=1)\n",
    "    plt.scatter(*goal.T, c='red', s=10)\n",
    "    plt.scatter(*rew_pos.T, c='magenta', s=1)\n",
    "\n",
    "plt.show()"
   ]
  },
  {
   "cell_type": "code",
   "execution_count": null,
   "metadata": {},
   "outputs": [],
   "source": []
  }
 ],
 "metadata": {
  "kernelspec": {
   "display_name": "rl",
   "language": "python",
   "name": "python3"
  },
  "language_info": {
   "codemirror_mode": {
    "name": "ipython",
    "version": 3
   },
   "file_extension": ".py",
   "mimetype": "text/x-python",
   "name": "python",
   "nbconvert_exporter": "python",
   "pygments_lexer": "ipython3",
   "version": "3.11.9"
  }
 },
 "nbformat": 4,
 "nbformat_minor": 2
}
