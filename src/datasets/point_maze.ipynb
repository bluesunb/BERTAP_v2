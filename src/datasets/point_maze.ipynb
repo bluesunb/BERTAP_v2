{
 "cells": [
  {
   "cell_type": "code",
   "execution_count": 1,
   "metadata": {},
   "outputs": [
    {
     "name": "stdout",
     "output_type": "stream",
     "text": [
      "/home/bluesun/PycharmProjects/tmp/BERTAP_v2\n"
     ]
    },
    {
     "name": "stderr",
     "output_type": "stream",
     "text": [
      "/home/bluesun/anaconda3/envs/rl/lib/python3.11/site-packages/IPython/core/magics/osm.py:417: UserWarning: using dhist requires you to install the `pickleshare` library.\n",
      "  self.shell.db['dhist'] = compress_dhist(dhist)[-100:]\n"
     ]
    }
   ],
   "source": [
    "cd ../../"
   ]
  },
  {
   "cell_type": "code",
   "execution_count": 2,
   "metadata": {},
   "outputs": [
    {
     "data": {
      "text/plain": [
       "'/home/bluesun/PycharmProjects/tmp/BERTAP_v2'"
      ]
     },
     "execution_count": 2,
     "metadata": {},
     "output_type": "execute_result"
    }
   ],
   "source": [
    "pwd"
   ]
  },
  {
   "cell_type": "code",
   "execution_count": 3,
   "metadata": {},
   "outputs": [
    {
     "name": "stderr",
     "output_type": "stream",
     "text": [
      "/home/bluesun/anaconda3/envs/rl/lib/python3.11/site-packages/Cython/Distutils/old_build_ext.py:15: DeprecationWarning: dep_util is Deprecated. Use functions from setuptools instead.\n",
      "  from distutils.dep_util import newer, newer_group\n",
      "<frozen importlib._bootstrap>:283: DeprecationWarning: the load_module() method is deprecated and slated for removal in Python 3.12; use exec_module() instead\n",
      "Warning: Flow failed to import. Set the environment variable D4RL_SUPPRESS_IMPORT_ERROR=1 to suppress this message.\n",
      "No module named 'flow'\n",
      "/home/bluesun/anaconda3/envs/rl/lib/python3.11/site-packages/glfw/__init__.py:914: GLFWError: (65544) b'X11: The DISPLAY environment variable is missing'\n",
      "  warnings.warn(message, GLFWError)\n",
      "Warning: CARLA failed to import. Set the environment variable D4RL_SUPPRESS_IMPORT_ERROR=1 to suppress this message.\n",
      "No module named 'carla'\n",
      "pybullet build time: Nov 28 2023 23:48:36\n",
      "/home/bluesun/anaconda3/envs/rl/lib/python3.11/site-packages/pybullet_envs/env_bases.py:8: DeprecationWarning: pkg_resources is deprecated as an API. See https://setuptools.pypa.io/en/latest/pkg_resources.html\n",
      "  from pkg_resources import parse_version\n",
      "/home/bluesun/anaconda3/envs/rl/lib/python3.11/site-packages/pkg_resources/__init__.py:2832: DeprecationWarning: Deprecated call to `pkg_resources.declare_namespace('sphinxcontrib')`.\n",
      "Implementing implicit namespace packages (as specified in PEP 420) is preferred to `pkg_resources.declare_namespace`. See https://setuptools.pypa.io/en/latest/references/keywords.html#keyword-namespace-packages\n",
      "  declare_namespace(pkg)\n",
      "load datafile: 100%|██████████| 8/8 [00:00<00:00, 11.75it/s]\n"
     ]
    }
   ],
   "source": [
    "import jax\n",
    "import gym, d4rl\n",
    "from src.datasets.d4rl_utils import qlearning_dataset\n",
    "from src.utils.ant_viz import GoalReachingMaze\n",
    "\n",
    "env_name = 'maze2d-large-v1'\n",
    "env = gym.make(env_name)\n",
    "\n",
    "r_data = env.get_dataset()"
   ]
  },
  {
   "cell_type": "code",
   "execution_count": 4,
   "metadata": {},
   "outputs": [
    {
     "name": "stdout",
     "output_type": "stream",
     "text": [
      "{'actions': (4000000, 2),\n",
      " 'infos/goal': (4000000, 2),\n",
      " 'infos/qpos': (4000000, 2),\n",
      " 'infos/qvel': (4000000, 2),\n",
      " 'observations': (4000000, 4),\n",
      " 'rewards': (4000000,),\n",
      " 'terminals': (4000000,),\n",
      " 'timeouts': (4000000,)}\n"
     ]
    }
   ],
   "source": [
    "import numpy as np\n",
    "from pprint import pp\n",
    "\n",
    "np.set_printoptions(linewidth=200)\n",
    "\n",
    "pp(jax.tree.map(np.shape, r_data))"
   ]
  },
  {
   "cell_type": "code",
   "execution_count": 5,
   "metadata": {},
   "outputs": [
    {
     "data": {
      "text/plain": [
       "array([ 249,  454,  736, 1071, 1657, 1760, 1986, 2331, 2727, 2830])"
      ]
     },
     "execution_count": 5,
     "metadata": {},
     "output_type": "execute_result"
    }
   ],
   "source": [
    "timeouts = r_data['timeouts']\n",
    "timeout_ids = np.where(timeouts)[0]\n",
    "timeout_ids[:10]"
   ]
  },
  {
   "cell_type": "markdown",
   "metadata": {},
   "source": [
    "## 1. Visualization\n",
    "\n",
    "Unlike the `antmaze`, maze board of `maze2d` environment is transposed.\n",
    "So, We should transpose either maze board or agent's position to visualize it correctly."
   ]
  },
  {
   "cell_type": "code",
   "execution_count": 6,
   "metadata": {},
   "outputs": [
    {
     "data": {
      "text/plain": [
       "<matplotlib.collections.PathCollection at 0x755e6100bb50>"
      ]
     },
     "execution_count": 6,
     "metadata": {},
     "output_type": "execute_result"
    },
    {
     "data": {
      "image/png": "[encoded data removed]",
      "text/plain": [
       "<Figure size 640x480 with 1 Axes>"
      ]
     },
     "metadata": {},
     "output_type": "display_data"
    }
   ],
   "source": [
    "import matplotlib.pyplot as plt\n",
    "\n",
    "render_env = GoalReachingMaze(env_name)\n",
    "render_env.draw()\n",
    "\n",
    "i = 199\n",
    "c = np.linspace(0, 1, timeout_ids[i + 1] - timeout_ids[i])\n",
    "st = slice(timeout_ids[i] + 1, timeout_ids[i + 1] + 1)\n",
    "plt.scatter(r_data['observations'][st, 1], r_data['observations'][st, 0], c=c, cmap='viridis', alpha=0.5, s=1)\n",
    "plt.scatter(r_data['infos/goal'][st, 1], r_data['infos/goal'][st, 0], c='r', s=10)"
   ]
  },
  {
   "cell_type": "markdown",
   "metadata": {},
   "source": [
    "Each trajectory is connected with each other, but goal is instantly changed after reaching the goal."
   ]
  },
  {
   "cell_type": "code",
   "execution_count": 7,
   "metadata": {},
   "outputs": [
    {
     "name": "stderr",
     "output_type": "stream",
     "text": [
      "/tmp/ipykernel_268326/637249744.py:5: UserWarning: No data for colormapping provided via 'c'. Parameters 'cmap' will be ignored\n",
      "  plt.scatter(r_data['observations'][st, 1], r_data['observations'][st, 0], c=f'C{i}', cmap='viridis', alpha=0.5, s=1)\n"
     ]
    },
    {
     "data": {
      "image/png": "[encoded data removed]",
      "text/plain": [
       "<Figure size 640x480 with 1 Axes>"
      ]
     },
     "metadata": {},
     "output_type": "display_data"
    }
   ],
   "source": [
    "render_env.draw()\n",
    "for i in range(4):\n",
    "    k = i + 199\n",
    "    st = slice(timeout_ids[k] + 1, timeout_ids[k + 1] + 1)\n",
    "    plt.scatter(r_data['observations'][st, 1], r_data['observations'][st, 0], c=f'C{i}', cmap='viridis', alpha=0.5, s=1)\n",
    "    plt.scatter(r_data['infos/goal'][st, 1], r_data['infos/goal'][st, 0], c=f'C{i}', s=10)"
   ]
  },
  {
   "cell_type": "markdown",
   "metadata": {},
   "source": [
    "## 2. Dataset"
   ]
  },
  {
   "cell_type": "code",
   "execution_count": 8,
   "metadata": {},
   "outputs": [
    {
     "name": "stdout",
     "output_type": "stream",
     "text": [
      "[ 249  454  736 1071 1657 1760 1986 2331 2727 2830]\n"
     ]
    }
   ],
   "source": [
    "print(timeout_ids[:10])"
   ]
  },
  {
   "cell_type": "markdown",
   "metadata": {},
   "source": [
    "### 2.1 Terminal Condition\n",
    "\n",
    "**Summary**\n",
    "- All episodes are sequentially connected.\n",
    "- The terminal state of the episode and the initial state of the next episode are the same."
   ]
  },
  {
   "cell_type": "code",
   "execution_count": 9,
   "metadata": {},
   "outputs": [
    {
     "data": {
      "text/plain": [
       "array([[3.0102136, 8.749925 , 3.0295458, 9.002356 , 0.       ],\n",
       "       [3.0055444, 8.78538  , 3.0295458, 9.002356 , 0.       ],\n",
       "       [3.0018442, 8.81837  , 3.0295458, 9.002356 , 0.       ],\n",
       "       [2.9977927, 8.849228 , 3.0295458, 9.002356 , 0.       ],\n",
       "       [2.995175 , 8.877631 , 3.0295458, 9.002356 , 0.       ],\n",
       "       [2.9942422, 8.9035845, 3.0295458, 9.002356 , 1.       ],\n",
       "       [2.9942422, 8.9035845, 7.01233  , 7.9882717, 0.       ],\n",
       "       [2.9914258, 8.952931 , 7.01233  , 7.9882717, 0.       ],\n",
       "       [2.9901116, 8.981087 , 7.01233  , 7.9882717, 0.       ],\n",
       "       [2.9890475, 9.011558 , 7.01233  , 7.9882717, 0.       ]], dtype=float32)"
      ]
     },
     "execution_count": 9,
     "metadata": {},
     "output_type": "execute_result"
    }
   ],
   "source": [
    "st = slice(timeout_ids[0] - 5, timeout_ids[0] + 5)\n",
    "np.c_[r_data[\"observations\"][st, :2], r_data[\"infos/goal\"][st], r_data[\"timeouts\"][st]]"
   ]
  },
  {
   "cell_type": "markdown",
   "metadata": {},
   "source": [
    "Note that observation is not changed just after reaching the goal."
   ]
  },
  {
   "cell_type": "code",
   "execution_count": 10,
   "metadata": {},
   "outputs": [
    {
     "data": {
      "text/plain": [
       "array([[6.934996  , 7.989043  , 3.498105  , 0.25165215, 7.01233   , 7.9882717 ],\n",
       "       [6.934996  , 7.989043  , 3.498105  , 0.25165215, 0.99318725, 9.051789  ]], dtype=float32)"
      ]
     },
     "execution_count": 10,
     "metadata": {},
     "output_type": "execute_result"
    }
   ],
   "source": [
    "st = slice(timeout_ids[1], timeout_ids[1] + 2)\n",
    "np.c_[r_data[\"observations\"][st], r_data[\"infos/goal\"][st]]"
   ]
  },
  {
   "cell_type": "code",
   "execution_count": 11,
   "metadata": {},
   "outputs": [
    {
     "name": "stdout",
     "output_type": "stream",
     "text": [
      "True\n",
      "True\n"
     ]
    }
   ],
   "source": [
    "goal_changed = np.where(np.linalg.norm(r_data['infos/goal'][1:] - r_data['infos/goal'][:-1], axis=1) > 1e-6)[0]\n",
    "obs_unchanged = np.where(np.linalg.norm(r_data['observations'][1:] - r_data['observations'][:-1], axis=1) < 1e-6)[0]\n",
    "\n",
    "print(np.allclose(goal_changed, timeout_ids))\n",
    "print(np.allclose(obs_unchanged, timeout_ids))"
   ]
  },
  {
   "cell_type": "markdown",
   "metadata": {},
   "source": [
    "### 2.2 Reward Signal\n",
    "\n",
    "**Summary**\n",
    "- Reward was labeled incorrectly.\n",
    "- So, we have to relabel the reward signal."
   ]
  },
  {
   "cell_type": "code",
   "execution_count": 12,
   "metadata": {},
   "outputs": [
    {
     "name": "stdout",
     "output_type": "stream",
     "text": [
      "[0. 0. 0. ... 0. 0. 0.]\n"
     ]
    },
    {
     "data": {
      "text/plain": [
       "array([5909, 5910, 5911, 5912, 5913, 5914, 5915, 5916, 5917, 5918])"
      ]
     },
     "execution_count": 12,
     "metadata": {},
     "output_type": "execute_result"
    }
   ],
   "source": [
    "print(r_data[\"rewards\"])\n",
    "np.where(r_data[\"rewards\"] > 0)[0][50:60]"
   ]
  },
  {
   "cell_type": "code",
   "execution_count": 13,
   "metadata": {},
   "outputs": [
    {
     "data": {
      "text/plain": [
       "array([[3.0102136, 8.749925 , 0.       , 0.       ],\n",
       "       [3.0055444, 8.78538  , 0.       , 0.       ],\n",
       "       [3.0018442, 8.81837  , 0.       , 0.       ],\n",
       "       [2.9977927, 8.849228 , 0.       , 0.       ],\n",
       "       [2.995175 , 8.877631 , 0.       , 0.       ],\n",
       "       [2.9942422, 8.9035845, 0.       , 1.       ],\n",
       "       [2.9942422, 8.9035845, 0.       , 0.       ],\n",
       "       [2.9914258, 8.952931 , 0.       , 0.       ],\n",
       "       [2.9901116, 8.981087 , 0.       , 0.       ],\n",
       "       [2.9890475, 9.011558 , 0.       , 0.       ]], dtype=float32)"
      ]
     },
     "execution_count": 13,
     "metadata": {},
     "output_type": "execute_result"
    }
   ],
   "source": [
    "st = slice(timeout_ids[0] - 5, timeout_ids[0] + 5)\n",
    "np.c_[r_data[\"observations\"][st, :2], r_data[\"rewards\"][st], r_data[\"timeouts\"][st]]"
   ]
  },
  {
   "cell_type": "markdown",
   "metadata": {},
   "source": [
    "We can see reward is delayed, it seems error. Then, we should relabel the reward signal.\n",
    "From [D4RL docs](https://github.com/Farama-Foundation/D4RL/wiki/Tasks#maze2d), reward = 1.0 when the agent is within a 0.5 radius of the target ball."
   ]
  },
  {
   "cell_type": "code",
   "execution_count": 14,
   "metadata": {},
   "outputs": [
    {
     "data": {
      "image/png": "[encoded data removed]",
      "text/plain": [
       "<Figure size 1000x400 with 2 Axes>"
      ]
     },
     "metadata": {},
     "output_type": "display_data"
    }
   ],
   "source": [
    "plt.figure(figsize=(10, 4))\n",
    "for i in range(22, 24):\n",
    "    plt.subplot(1, 2, i - 22 + 1)\n",
    "\n",
    "    st = slice(timeout_ids[i] + 1, timeout_ids[i + 1] + 1)\n",
    "    c = np.linspace(0, 1, timeout_ids[i + 1] - timeout_ids[i])\n",
    "    rc = r_data['rewards'][st] > 0\n",
    "\n",
    "    render_env.draw()\n",
    "    plt.scatter(r_data['observations'][st, 1], r_data['observations'][st, 0], c=c, cmap='viridis', alpha=0.5, s=1)\n",
    "    plt.scatter(r_data['observations'][st, 1][rc], r_data['observations'][st, 0][rc], c='magenta', s=1, alpha=1.0)\n",
    "    plt.scatter(r_data['infos/goal'][st, 1], r_data['infos/goal'][st, 0], c='r', s=10)\n",
    "    plt.title(f\"Episode {i}\")\n",
    "\n",
    "plt.tight_layout()\n",
    "plt.show()"
   ]
  },
  {
   "cell_type": "markdown",
   "metadata": {},
   "source": [
    "## 3. Dataset Testing"
   ]
  },
  {
   "cell_type": "code",
   "execution_count": 7,
   "metadata": {},
   "outputs": [
    {
     "name": "stdout",
     "output_type": "stream",
     "text": [
      "Loading dataset...\n"
     ]
    },
    {
     "name": "stderr",
     "output_type": "stream",
     "text": [
      "load datafile: 100%|██████████| 8/8 [00:00<00:00, 11.65it/s]\n"
     ]
    },
    {
     "name": "stdout",
     "output_type": "stream",
     "text": [
      "==== [Fixing terminal for Maze2D] ====\n",
      "==== [Transposing xy for Maze2D] ====\n",
      "==== [Fixing reward for Maze2D] ====\n"
     ]
    }
   ],
   "source": [
    "from src.datasets.d4rl_utils import make_env, get_dataset\n",
    "\n",
    "data = get_dataset(env, env_name)"
   ]
  },
  {
   "cell_type": "code",
   "execution_count": 9,
   "metadata": {},
   "outputs": [
    {
     "name": "stdout",
     "output_type": "stream",
     "text": [
      "[ 248  452  733 1067 1652 1754 1979 2323 2718 2820]\n"
     ]
    }
   ],
   "source": [
    "terms = data[\"dones_float\"]\n",
    "term_ids = np.where(terms)[0]\n",
    "print(term_ids[:10])"
   ]
  },
  {
   "cell_type": "code",
   "execution_count": 12,
   "metadata": {},
   "outputs": [
    {
     "data": {
      "text/plain": [
       "<Axes: ylabel='Count'>"
      ]
     },
     "execution_count": 12,
     "metadata": {},
     "output_type": "execute_result"
    },
    {
     "data": {
      "image/png": "[encoded data removed]",
      "text/plain": [
       "<Figure size 640x480 with 1 Axes>"
      ]
     },
     "metadata": {},
     "output_type": "display_data"
    }
   ],
   "source": [
    "import seaborn as sns\n",
    "\n",
    "dist = np.linalg.norm(data[\"goals\"][term_ids] - data[\"observations\"][term_ids, :2], axis=-1)\n",
    "sns.histplot(dist, bins=100, kde=True)"
   ]
  },
  {
   "cell_type": "code",
   "execution_count": 14,
   "metadata": {},
   "outputs": [
    {
     "data": {
      "text/plain": [
       "[0.1839537799358368,\n",
       " 0.18792536477247873,\n",
       " 0.191794749101003,\n",
       " 0.19555109918117525,\n",
       " 0.19970428109169006,\n",
       " 0.2038428415854772,\n",
       " 0.20844428956508637,\n",
       " 0.21333398709694548,\n",
       " 0.21925360321998597,\n",
       " 0.22977624237537378,\n",
       " 6.1707397]"
      ]
     },
     "execution_count": 14,
     "metadata": {},
     "output_type": "execute_result"
    }
   ],
   "source": [
    "[np.quantile(dist, q) for q in np.linspace(0.8, 0.99, 10)] + [np.max(dist)]"
   ]
  },
  {
   "cell_type": "code",
   "execution_count": 26,
   "metadata": {},
   "outputs": [
    {
     "data": {
      "image/png": "[encoded data removed]",
      "text/plain": [
       "<Figure size 640x480 with 1 Axes>"
      ]
     },
     "metadata": {},
     "output_type": "display_data"
    }
   ],
   "source": [
    "i = dist[:-1].argmax()\n",
    "s, t = term_ids[i-1:i+1] + 1\n",
    "\n",
    "render_env = GoalReachingMaze(env_name)\n",
    "render_env.draw()\n",
    "\n",
    "pos = data[\"observations\"][s:t, :2]\n",
    "goal = data[\"goals\"][s:t]\n",
    "c = np.linspace(0, 1, t - s)\n",
    "plt.scatter(pos[:, 0], pos[:, 1], c=c, cmap='viridis', alpha=0.5, s=1)\n",
    "plt.scatter(goal[:, 0], goal[:, 1], c='r', s=10)\n",
    "plt.show()"
   ]
  },
  {
   "cell_type": "code",
   "execution_count": 24,
   "metadata": {},
   "outputs": [
    {
     "data": {
      "text/plain": [
       "<Axes: ylabel='Count'>"
      ]
     },
     "execution_count": 24,
     "metadata": {},
     "output_type": "execute_result"
    },
    {
     "data": {
      "image/png": "[encoded data removed]",
      "text/plain": [
       "<Figure size 640x480 with 1 Axes>"
      ]
     },
     "metadata": {},
     "output_type": "display_data"
    }
   ],
   "source": [
    "sns.histplot(dist[:-1], bins=100, kde=True)"
   ]
  },
  {
   "cell_type": "code",
   "execution_count": 25,
   "metadata": {},
   "outputs": [
    {
     "data": {
      "text/plain": [
       "6746"
      ]
     },
     "execution_count": 25,
     "metadata": {},
     "output_type": "execute_result"
    }
   ],
   "source": [
    "dist[:-1].argmax()"
   ]
  },
  {
   "cell_type": "code",
   "execution_count": null,
   "metadata": {},
   "outputs": [],
   "source": []
  }
 ],
 "metadata": {
  "kernelspec": {
   "display_name": "rl",
   "language": "python",
   "name": "python3"
  },
  "language_info": {
   "codemirror_mode": {
    "name": "ipython",
    "version": 3
   },
   "file_extension": ".py",
   "mimetype": "text/x-python",
   "name": "python",
   "nbconvert_exporter": "python",
   "pygments_lexer": "ipython3",
   "version": "3.11.9"
  }
 },
 "nbformat": 4,
 "nbformat_minor": 2
}
